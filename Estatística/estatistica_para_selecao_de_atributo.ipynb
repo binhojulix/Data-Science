{
 "cells": [
  {
   "cell_type": "code",
   "execution_count": null,
   "metadata": {},
   "outputs": [],
   "source": []
  }
 ],
 "metadata": {
  "interpreter": {
   "hash": "17e05d979acceb6c9b350546660ad9d396c7b8226db12706e25a97f89a4eda36"
  },
  "kernelspec": {
   "display_name": "Python 3.9.7 64-bit ('estatistica': conda)",
   "language": "python",
   "name": "python3"
  },
  "language_info": {
   "name": "python",
   "version": "3.9.7"
  },
  "orig_nbformat": 4
 },
 "nbformat": 4,
 "nbformat_minor": 2
}
